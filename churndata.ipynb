# Homogeneous Ensemble (Random Forest):

import pandas as pd
from sklearn.ensemble import RandomForestClassifier
from sklearn.metrics import confusion_matrix
from sklearn.model_selection import train_test_split

# Read in the data
data = pd.read_csv('churn_modelling.csv')

# Split the data into training and testing sets
X = data.drop(columns=['Exited'])
y = data['Exited']
X_train, X_test, y_train, y_test = train_test_split(X, y, test_size=0.2)
