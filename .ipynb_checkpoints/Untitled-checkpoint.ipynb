{
 "cells": [
  {
   "cell_type": "code",
   "execution_count": 27,
   "metadata": {},
   "outputs": [],
   "source": [
    "# Homogeneous Ensemble (Random Forest):\r\n",
    "\r\n",
    "import pandas as pd\r\n",
    "from sklearn.ensemble import RandomForestClassifier\r\n",
    "from sklearn.metrics import confusion_matrix\r\n",
    "from sklearn.model_selection import train_test_split"
   ]
  },
  {
   "cell_type": "code",
   "execution_count": 28,
   "metadata": {},
   "outputs": [
    {
     "name": "stdout",
     "output_type": "stream",
     "text": [
      "<class 'pandas.core.frame.DataFrame'>\n",
      "RangeIndex: 1338 entries, 0 to 1337\n",
      "Data columns (total 7 columns):\n",
      " #   Column    Non-Null Count  Dtype  \n",
      "---  ------    --------------  -----  \n",
      " 0   age       1338 non-null   int64  \n",
      " 1   sex       1338 non-null   object \n",
      " 2   bmi       1338 non-null   float64\n",
      " 3   children  1338 non-null   int64  \n",
      " 4   smoker    1338 non-null   object \n",
      " 5   region    1338 non-null   object \n",
      " 6   charges   1338 non-null   float64\n",
      "dtypes: float64(2), int64(2), object(3)\n",
      "memory usage: 73.3+ KB\n",
      "      age     sex     bmi  children smoker     region      charges\n",
      "0      19  female  27.900         0    yes  southwest  16884.92400\n",
      "1      18    male  33.770         1     no  southeast   1725.55230\n",
      "2      28    male  33.000         3     no  southeast   4449.46200\n",
      "3      33    male  22.705         0     no  northwest  21984.47061\n",
      "4      32    male  28.880         0     no  northwest   3866.85520\n",
      "...   ...     ...     ...       ...    ...        ...          ...\n",
      "1333   50    male  30.970         3     no  northwest  10600.54830\n",
      "1334   18  female  31.920         0     no  northeast   2205.98080\n",
      "1335   18  female  36.850         0     no  southeast   1629.83350\n",
      "1336   21  female  25.800         0     no  southwest   2007.94500\n",
      "1337   61  female  29.070         0    yes  northwest  29141.36030\n",
      "\n",
      "[1338 rows x 7 columns]\n"
     ]
    }
   ],
   "source": [
    "# Read in the data\r\n",
    "dataset = pd.read_csv(r\"C:\\Users\\John\\Downloads\\insurance.csv\")\r\n",
    "dataset.info()\r\n",
    "dataset.head()\r\n",
    "dataset.describe()\r\n",
    "print(dataset)"
   ]
  },
  {
   "cell_type": "code",
   "execution_count": 29,
   "metadata": {},
   "outputs": [],
   "source": [
    "def heterogeneous_ensemble_extra_trees_classifier(data):\r\n",
    "    #Create Extra Trees Model\r\n",
    "    et = ExtraTreesClassifier(n_estimators=100, random_state=42)\r\n",
    "    #Split data into features and target\r\n",
    "    X = data.drop(columns=\"Churn\")\r\n",
    "    y = data.Churn\r\n",
    "    #Train model\r\n",
    "    et.fit(X, y)\r\n",
    "    return et"
   ]
  },
  {
   "cell_type": "code",
   "execution_count": 30,
   "metadata": {},
   "outputs": [],
   "source": [
    "def random_forest(data):\r\n",
    "    X = data.iloc[:,:-1].values\r\n",
    "    Y = data.iloc[:,-1].values\r\n",
    "    \r\n",
    "    from sklearn.model_selection import train_test_split\r\n",
    "    X_train, X_test, Y_train, Y_test = train_test_split(X, Y, test_size = 0.2)\r\n",
    "\r\n",
    "    from sklearn.ensemble import RandomForestClassifier\r\n",
    "    forest = RandomForestClassifier(n_estimators = 10, criterion = 'entropy')\r\n",
    "    forest.fit(X_train, Y_train)\r\n",
    "    Y_pred = forest.predict(X_test)\r\n",
    "    \r\n",
    "    return Y_pred\r\n",
    "\r\n",
    "#Heterogeneous Ensemble using Extra Trees Classifier\r\n",
    "def extra_trees_classifier(data):\r\n",
    "    X = data.iloc[:,:-1].values\r\n",
    "    Y = data.iloc[:,-1].values\r\n",
    "    \r\n",
    "    from sklearn.model_selection import train_test_split\r\n",
    "    X_train, X_test, Y_train, Y_test = train_test_split(X, Y, test_size = 0.2)\r\n",
    "\r\n",
    "    from sklearn.ensemble import ExtraTreesClassifier\r\n",
    "    tree = ExtraTreesClassifier(n_estimators = 10, criterion = 'entropy')\r\n",
    "    tree.fit(X_train, Y_train)\r\n",
    "    Y_pred = tree.predict(X_test)\r\n",
    "    \r\n",
    "    return Y_pred"
   ]
  }
 ],
 "metadata": {
  "kernelspec": {
   "display_name": "Python 3.9.12 64-bit ('base': conda)",
   "name": "python3912jvsc74a57bd08fdbed2d6e700ff1a4a1f41502e0a2d1e121d5ba4480b6581143d2f3ddb3a694"
  },
  "language_info": {
   "codemirror_mode": {
    "name": "ipython",
    "version": 3
   },
   "file_extension": ".py",
   "mimetype": "text/x-python",
   "name": "python",
   "nbconvert_exporter": "python",
   "pygments_lexer": "ipython3",
   "version": "3.9.12"
  },
  "orig_nbformat": 3
 },
 "nbformat": 4,
 "nbformat_minor": 5
}